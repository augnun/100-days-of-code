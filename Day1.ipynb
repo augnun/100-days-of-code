{
  "cells": [
    {
      "metadata": {
        "_uuid": "8f2839f25d086af736a60e9eeb907d3b93b6e0e5",
        "_cell_guid": "b1076dfc-b9ad-4769-8c92-a6c4dae69d19",
        "trusted": true
      },
      "cell_type": "code",
      "source": "# This Python 3 environment comes with many helpful analytics libraries installed\n# It is defined by the kaggle/python docker image: https://github.com/kaggle/docker-python\n# For example, here's several helpful packages to load in \n\nimport numpy as np # linear algebra\nimport pandas as pd # data processing, CSV file I/O (e.g. pd.read_csv)\nimport matplotlib.pyplot as plt\n%matplotlib inline  \n\n# Input data files are available in the \"../input/\" directory.\n# For example, running this (by clicking run or pressing Shift+Enter) will list the files in the input directory\n\nimport os\nprint(os.listdir(\"../input\"))\n\n# Any results you write to the current directory are saved as output.",
      "execution_count": 19,
      "outputs": [
        {
          "output_type": "stream",
          "text": "['Admission_Predict.csv', 'Admission_Predict_Ver1.1.csv']\n",
          "name": "stdout"
        }
      ]
    },
    {
      "metadata": {
        "_uuid": "1b7e34d4e24c3d5949305d21cfcf54f0cd06e604"
      },
      "cell_type": "markdown",
      "source": "# Data Ingestion"
    },
    {
      "metadata": {
        "trusted": true,
        "_uuid": "7004d6d1dbdcfe4fb1b8fb1971e0b32e9be7f1fc"
      },
      "cell_type": "code",
      "source": "grad_adm = pd.read_csv(\"../input/Admission_Predict_Ver1.1.csv\")",
      "execution_count": 13,
      "outputs": []
    },
    {
      "metadata": {
        "_uuid": "3f1729a0abb68bdd0be3adac7f34f826260b0082"
      },
      "cell_type": "markdown",
      "source": "## Data structure"
    },
    {
      "metadata": {
        "trusted": true,
        "_uuid": "e5e73a3c091f2f6ecda3dfc2faa281a48f326cdc"
      },
      "cell_type": "code",
      "source": "grad_adm.columns, grad_adm.head()",
      "execution_count": 14,
      "outputs": [
        {
          "output_type": "execute_result",
          "execution_count": 14,
          "data": {
            "text/plain": "(Index(['Serial No.', 'GRE Score', 'TOEFL Score', 'University Rating', 'SOP',\n        'LOR ', 'CGPA', 'Research', 'Chance of Admit '],\n       dtype='object'),\n    Serial No.  GRE Score        ...         Research  Chance of Admit \n 0           1        337        ...                1              0.92\n 1           2        324        ...                1              0.76\n 2           3        316        ...                1              0.72\n 3           4        322        ...                1              0.80\n 4           5        314        ...                0              0.65\n \n [5 rows x 9 columns])"
          },
          "metadata": {}
        }
      ]
    },
    {
      "metadata": {
        "trusted": true,
        "_uuid": "8507ba62d70eb3498521f82ef8d6327023c671cb"
      },
      "cell_type": "code",
      "source": "grad_adm['Chance of Admit '].describe(), grad_adm['GRE Score'].describe()",
      "execution_count": 17,
      "outputs": [
        {
          "output_type": "execute_result",
          "execution_count": 17,
          "data": {
            "text/plain": "(count    500.00000\n mean       0.72174\n std        0.14114\n min        0.34000\n 25%        0.63000\n 50%        0.72000\n 75%        0.82000\n max        0.97000\n Name: Chance of Admit , dtype: float64, count    500.000000\n mean     316.472000\n std       11.295148\n min      290.000000\n 25%      308.000000\n 50%      317.000000\n 75%      325.000000\n max      340.000000\n Name: GRE Score, dtype: float64)"
          },
          "metadata": {}
        }
      ]
    },
    {
      "metadata": {
        "trusted": true,
        "_uuid": "003cf3acbfa6234dfad9d50cb1929b4cb6b40196"
      },
      "cell_type": "code",
      "source": "plt.violinplot(grad_adm['GRE Score'], points=10, widths=0.3,showmeans=True, showextrema=True, showmedians=True)\n",
      "execution_count": 33,
      "outputs": [
        {
          "output_type": "execute_result",
          "execution_count": 33,
          "data": {
            "text/plain": "{'bodies': [<matplotlib.collections.PolyCollection at 0x7f1a68402390>],\n 'cmeans': <matplotlib.collections.LineCollection at 0x7f1a684022b0>,\n 'cmaxes': <matplotlib.collections.LineCollection at 0x7f1a684027f0>,\n 'cmins': <matplotlib.collections.LineCollection at 0x7f1a68402a90>,\n 'cbars': <matplotlib.collections.LineCollection at 0x7f1a68402cf8>,\n 'cmedians': <matplotlib.collections.LineCollection at 0x7f1a68402f98>}"
          },
          "metadata": {}
        },
        {
          "output_type": "display_data",
          "data": {
            "text/plain": "<Figure size 432x288 with 1 Axes>",
            "image/png": "[encoded data removed]"
          },
          "metadata": {}
        }
      ]
    },
    {
      "metadata": {
        "trusted": true,
        "_uuid": "755dd93424ebc299e25461394ea7f611349c2656"
      },
      "cell_type": "code",
      "source": "plt.violinplot(grad_adm['Chance of Admit '])",
      "execution_count": 34,
      "outputs": [
        {
          "output_type": "execute_result",
          "execution_count": 34,
          "data": {
            "text/plain": "{'bodies': [<matplotlib.collections.PolyCollection at 0x7f1a683e3588>],\n 'cmaxes': <matplotlib.collections.LineCollection at 0x7f1a6849e208>,\n 'cmins': <matplotlib.collections.LineCollection at 0x7f1a683e39b0>,\n 'cbars': <matplotlib.collections.LineCollection at 0x7f1a683e3c18>}"
          },
          "metadata": {}
        },
        {
          "output_type": "display_data",
          "data": {
            "text/plain": "<Figure size 432x288 with 1 Axes>",
            "image/png": "[encoded data removed]"
          },
          "metadata": {}
        }
      ]
    },
    {
      "metadata": {
        "trusted": true,
        "_uuid": "582de49d93ef6661306b847235ca1a7e1ba00903"
      },
      "cell_type": "code",
      "source": "",
      "execution_count": null,
      "outputs": []
    }
  ],
  "metadata": {
    "kernelspec": {
      "display_name": "Python 3",
      "language": "python",
      "name": "python3"
    },
    "language_info": {
      "name": "python",
      "version": "3.6.6",
      "mimetype": "text/x-python",
      "codemirror_mode": {
        "name": "ipython",
        "version": 3
      },
      "pygments_lexer": "ipython3",
      "nbconvert_exporter": "python",
      "file_extension": ".py"
    }
  },
  "nbformat": 4,
  "nbformat_minor": 1
}